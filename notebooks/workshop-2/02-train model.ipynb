{
 "cells": [
  {
   "cell_type": "code",
   "execution_count": 1,
   "metadata": {
    "collapsed": false
   },
   "outputs": [
    {
     "name": "stdout",
     "output_type": "stream",
     "text": [
      "('Data set', (12450, 32, 32), (12450, 1))\n"
     ]
    }
   ],
   "source": [
    "import pickle\n",
    "\n",
    "pickle_file = '-data.pickle'\n",
    "\n",
    "with open(pickle_file, 'rb') as f:\n",
    "    save = pickle.load(f)\n",
    "    X = save['X']\n",
    "    y = save['y']\n",
    "    typesList = save['typesList']\n",
    "    del save  # hint to help gc free up memory\n",
    "    print('Data set', X.shape, y.shape)"
   ]
  },
  {
   "cell_type": "code",
   "execution_count": 2,
   "metadata": {
    "collapsed": false
   },
   "outputs": [
    {
     "name": "stdout",
     "output_type": "stream",
     "text": [
      "image dimensions: (32, 32)\n",
      "target category: cube\n"
     ]
    },
    {
     "data": {
      "image/png": "[encoded data removed]",
      "text/plain": [
       "<matplotlib.figure.Figure at 0x7fb426c44b50>"
      ]
     },
     "metadata": {},
     "output_type": "display_data"
    }
   ],
   "source": [
    "%matplotlib inline\n",
    "from matplotlib.pyplot import imshow\n",
    "import matplotlib.pyplot as plt\n",
    "\n",
    "img_index = 0\n",
    "\n",
    "img = X[img_index]\n",
    "print \"image dimensions:\", img.shape\n",
    "print \"target category:\", (typesList[y[img_index][0]])\n",
    "\n",
    "imshow(img, cmap = plt.get_cmap('gray'), vmin = -1, vmax = 1,  interpolation='nearest')\n",
    "plt.axis('off')\n",
    "plt.show()"
   ]
  },
  {
   "cell_type": "code",
   "execution_count": 3,
   "metadata": {
    "collapsed": false
   },
   "outputs": [
    {
     "name": "stderr",
     "output_type": "stream",
     "text": [
      "Using TensorFlow backend.\n"
     ]
    }
   ],
   "source": [
    "import numpy as np\n",
    "np.random.seed(1337)  # for reproducibility\n",
    "\n",
    "from keras.datasets import mnist\n",
    "from keras.models import Sequential\n",
    "from keras.layers import Dense, Dropout, Activation, Flatten\n",
    "from keras.layers import Convolution2D, MaxPooling2D\n",
    "from keras.utils import np_utils\n",
    "from keras.callbacks import ModelCheckpoint\n",
    "from keras import backend as K"
   ]
  },
  {
   "cell_type": "code",
   "execution_count": 4,
   "metadata": {
    "collapsed": false
   },
   "outputs": [],
   "source": [
    "# number of classes\n",
    "num_classes = 3\n",
    "\n",
    "# image dimensions\n",
    "img_rows, img_cols = X.shape[1],  X.shape[2]\n",
    "\n",
    "if K.image_dim_ordering() == 'th':\n",
    "    X = X.reshape(X.shape[0], 1, img_rows, img_cols)\n",
    "    input_shape = (1, img_rows, img_cols)\n",
    "else:\n",
    "    X = X.reshape(X.shape[0], img_rows, img_cols, 1)\n",
    "    input_shape = (img_rows, img_cols, 1)\n",
    "\n",
    "y = np_utils.to_categorical(y, num_classes)"
   ]
  },
  {
   "cell_type": "code",
   "execution_count": 8,
   "metadata": {
    "collapsed": true
   },
   "outputs": [],
   "source": [
    "# model hyperparameters\n",
    "batch_size = 32\n",
    "nb_epoch = 15\n",
    "\n",
    "# network architecture\n",
    "patch_size_1 = 3\n",
    "patch_size_2 = 3\n",
    "\n",
    "depth_1 = 32\n",
    "depth_2 = 32\n",
    "\n",
    "pool_size = 2\n",
    "\n",
    "num_hidden_1 = 128\n",
    "num_hidden_2 = 128\n",
    "\n",
    "dropout = 0.5"
   ]
  },
  {
   "cell_type": "code",
   "execution_count": 9,
   "metadata": {
    "collapsed": true
   },
   "outputs": [],
   "source": [
    "model = Sequential()\n",
    "\n",
    "model.add(Convolution2D(depth_1, patch_size_1, patch_size_1,\n",
    "                        border_mode='valid',\n",
    "                        input_shape=input_shape))\n",
    "model.add(Activation('relu'))\n",
    "model.add(MaxPooling2D(pool_size=(pool_size, pool_size)))\n",
    "\n",
    "model.add(Convolution2D(depth_2, patch_size_2, patch_size_2, border_mode='valid'))\n",
    "model.add(Activation('relu'))\n",
    "model.add(MaxPooling2D(pool_size=(pool_size, pool_size)))\n",
    "\n",
    "model.add(Flatten())\n",
    "\n",
    "model.add(Dense(num_hidden_1))\n",
    "model.add(Activation('relu'))\n",
    "model.add(Dropout(dropout))\n",
    "\n",
    "model.add(Dense(num_hidden_2))\n",
    "model.add(Activation('relu'))\n",
    "model.add(Dropout(dropout))\n",
    "\n",
    "model.add(Dense(num_classes))\n",
    "\n",
    "model.add(Activation('softmax'))"
   ]
  },
  {
   "cell_type": "code",
   "execution_count": 10,
   "metadata": {
    "collapsed": false
   },
   "outputs": [
    {
     "name": "stdout",
     "output_type": "stream",
     "text": [
      "Train on 8715 samples, validate on 3735 samples\n",
      "Epoch 1/30\n",
      "8715/8715 [==============================] - 30s - loss: 0.6007 - acc: 0.7399 - val_loss: 0.2275 - val_acc: 0.9100\n",
      "Epoch 2/30\n",
      "8715/8715 [==============================] - 37s - loss: 0.2044 - acc: 0.9221 - val_loss: 0.1096 - val_acc: 0.9596\n",
      "Epoch 3/30\n",
      "8715/8715 [==============================] - 39s - loss: 0.1273 - acc: 0.9549 - val_loss: 0.0801 - val_acc: 0.9738\n",
      "Epoch 4/30\n",
      "8715/8715 [==============================] - 41s - loss: 0.0898 - acc: 0.9688 - val_loss: 0.0716 - val_acc: 0.9770\n",
      "Epoch 5/30\n",
      "8715/8715 [==============================] - 42s - loss: 0.0762 - acc: 0.9751 - val_loss: 0.0497 - val_acc: 0.9834\n",
      "Epoch 6/30\n",
      "8715/8715 [==============================] - 43s - loss: 0.0593 - acc: 0.9795 - val_loss: 0.0440 - val_acc: 0.9863\n",
      "Epoch 7/30\n",
      "8715/8715 [==============================] - 43s - loss: 0.0517 - acc: 0.9812 - val_loss: 0.0361 - val_acc: 0.9880\n",
      "Epoch 8/30\n",
      "8715/8715 [==============================] - 42s - loss: 0.0457 - acc: 0.9843 - val_loss: 0.0315 - val_acc: 0.9896\n",
      "Epoch 9/30\n",
      "8715/8715 [==============================] - 44s - loss: 0.0382 - acc: 0.9870 - val_loss: 0.0267 - val_acc: 0.9936\n",
      "Epoch 10/30\n",
      "8715/8715 [==============================] - 43s - loss: 0.0335 - acc: 0.9881 - val_loss: 0.0244 - val_acc: 0.9938\n",
      "Epoch 11/30\n",
      "8715/8715 [==============================] - 41s - loss: 0.0308 - acc: 0.9888 - val_loss: 0.0221 - val_acc: 0.9941\n",
      "Epoch 12/30\n",
      "8715/8715 [==============================] - 42s - loss: 0.0249 - acc: 0.9909 - val_loss: 0.0269 - val_acc: 0.9928\n",
      "Epoch 13/30\n",
      "8715/8715 [==============================] - 41s - loss: 0.0237 - acc: 0.9924 - val_loss: 0.0211 - val_acc: 0.9941\n",
      "Epoch 14/30\n",
      "8715/8715 [==============================] - 41s - loss: 0.0234 - acc: 0.9917 - val_loss: 0.0185 - val_acc: 0.9968\n",
      "Epoch 15/30\n",
      "8715/8715 [==============================] - 42s - loss: 0.0174 - acc: 0.9950 - val_loss: 0.0214 - val_acc: 0.9952\n",
      "Epoch 16/30\n",
      "8715/8715 [==============================] - 42s - loss: 0.0176 - acc: 0.9937 - val_loss: 0.0166 - val_acc: 0.9965\n",
      "Epoch 17/30\n",
      "8715/8715 [==============================] - 47s - loss: 0.0161 - acc: 0.9947 - val_loss: 0.0172 - val_acc: 0.9957\n",
      "Epoch 18/30\n",
      "8715/8715 [==============================] - 45s - loss: 0.0145 - acc: 0.9958 - val_loss: 0.0180 - val_acc: 0.9963\n",
      "Epoch 19/30\n",
      "8715/8715 [==============================] - 43s - loss: 0.0163 - acc: 0.9941 - val_loss: 0.0165 - val_acc: 0.9971\n",
      "Epoch 20/30\n",
      "8715/8715 [==============================] - 42s - loss: 0.0126 - acc: 0.9961 - val_loss: 0.0183 - val_acc: 0.9963\n",
      "Epoch 21/30\n",
      "8715/8715 [==============================] - 46s - loss: 0.0136 - acc: 0.9950 - val_loss: 0.0181 - val_acc: 0.9965\n",
      "Epoch 22/30\n",
      "8715/8715 [==============================] - 44s - loss: 0.0126 - acc: 0.9958 - val_loss: 0.0244 - val_acc: 0.9954\n",
      "Epoch 23/30\n",
      "8715/8715 [==============================] - 45s - loss: 0.0107 - acc: 0.9959 - val_loss: 0.0187 - val_acc: 0.9963\n",
      "Epoch 24/30\n",
      "8715/8715 [==============================] - 45s - loss: 0.0109 - acc: 0.9962 - val_loss: 0.0163 - val_acc: 0.9963\n",
      "Epoch 25/30\n",
      "8715/8715 [==============================] - 41s - loss: 0.0090 - acc: 0.9972 - val_loss: 0.0160 - val_acc: 0.9963\n",
      "Epoch 26/30\n",
      "8715/8715 [==============================] - 44s - loss: 0.0084 - acc: 0.9967 - val_loss: 0.0194 - val_acc: 0.9963\n",
      "Epoch 27/30\n",
      "8715/8715 [==============================] - 44s - loss: 0.0102 - acc: 0.9964 - val_loss: 0.0161 - val_acc: 0.9973\n",
      "Epoch 28/30\n",
      "8715/8715 [==============================] - 44s - loss: 0.0089 - acc: 0.9967 - val_loss: 0.0189 - val_acc: 0.9973\n",
      "Epoch 29/30\n",
      "8715/8715 [==============================] - 41s - loss: 0.0081 - acc: 0.9974 - val_loss: 0.0141 - val_acc: 0.9976\n",
      "Epoch 30/30\n",
      "8715/8715 [==============================] - 40s - loss: 0.0077 - acc: 0.9977 - val_loss: 0.0172 - val_acc: 0.9968\n"
     ]
    }
   ],
   "source": [
    "checkpoint_name = \"-model.hdf5\"\n",
    "checkpointer = ModelCheckpoint(checkpoint_name, verbose=0, save_best_only=True)\n",
    "\n",
    "model.compile(loss='categorical_crossentropy',\n",
    "              optimizer='adadelta',\n",
    "              metrics=['accuracy'])\n",
    "\n",
    "history = model.fit(X, y, validation_split=0.3, batch_size=batch_size, nb_epoch=nb_epoch,\n",
    "          verbose=1, callbacks=[checkpointer])"
   ]
  },
  {
   "cell_type": "code",
   "execution_count": 12,
   "metadata": {
    "collapsed": false
   },
   "outputs": [
    {
     "name": "stdout",
     "output_type": "stream",
     "text": [
      "['acc', 'loss', 'val_acc', 'val_loss']\n"
     ]
    },
    {
     "data": {
      "image/png": "[encoded data removed]",
      "text/plain": [
       "<matplotlib.figure.Figure at 0x7fb3c1c80110>"
      ]
     },
     "metadata": {},
     "output_type": "display_data"
    }
   ],
   "source": [
    "print(history.history.keys())\n",
    "\n",
    "plt.plot(history.history['acc'])\n",
    "plt.plot(history.history['val_acc'])\n",
    "plt.title('model loss')\n",
    "plt.ylabel('accuracy')\n",
    "plt.xlabel('epoch')\n",
    "plt.legend(['train', 'test'], loc='upper right')\n",
    "plt.show()"
   ]
  }
 ],
 "metadata": {
  "anaconda-cloud": {},
  "kernelspec": {
   "display_name": "Python [default]",
   "language": "python",
   "name": "python2"
  },
  "language_info": {
   "codemirror_mode": {
    "name": "ipython",
    "version": 2
   },
   "file_extension": ".py",
   "mimetype": "text/x-python",
   "name": "python",
   "nbconvert_exporter": "python",
   "pygments_lexer": "ipython2",
   "version": "2.7.12"
  }
 },
 "nbformat": 4,
 "nbformat_minor": 1
}
