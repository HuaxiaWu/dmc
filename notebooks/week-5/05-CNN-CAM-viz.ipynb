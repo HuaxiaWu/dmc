{
 "cells": [
  {
   "cell_type": "code",
   "execution_count": 1,
   "metadata": {
    "collapsed": false
   },
   "outputs": [
    {
     "name": "stdout",
     "output_type": "stream",
     "text": [
      "('Training set', (14000, 64, 64), (14000, 1))\n",
      "('Test set', (6000, 64, 64), (6000, 1))\n"
     ]
    }
   ],
   "source": [
    "import pickle\n",
    "\n",
    "pickle_file = '-catsdogs.pickle'\n",
    "\n",
    "with open(pickle_file, 'rb') as f:\n",
    "    save = pickle.load(f)\n",
    "    X_train = save['X_train']\n",
    "    y_train = save['y_train']\n",
    "    X_test = save['X_test']\n",
    "    y_test = save['y_test']\n",
    "    del save  # hint to help gc free up memory\n",
    "    print('Training set', X_train.shape, y_train.shape)\n",
    "    print('Test set', X_test.shape, y_test.shape)"
   ]
  },
  {
   "cell_type": "code",
   "execution_count": 2,
   "metadata": {
    "collapsed": false
   },
   "outputs": [
    {
     "name": "stderr",
     "output_type": "stream",
     "text": [
      "Using TensorFlow backend.\n"
     ]
    }
   ],
   "source": [
    "import numpy as np\n",
    "np.random.seed(1337)  # for reproducibility\n",
    "\n",
    "from keras.datasets import mnist\n",
    "from keras.models import Sequential\n",
    "from keras.layers import Dense, Dropout, Activation, Flatten\n",
    "from keras.layers import Convolution2D, MaxPooling2D, AveragePooling2D\n",
    "from keras.utils import np_utils\n",
    "from keras.callbacks import ModelCheckpoint\n",
    "from keras import backend as K\n",
    "\n",
    "from keras.datasets import mnist"
   ]
  },
  {
   "cell_type": "code",
   "execution_count": 3,
   "metadata": {
    "collapsed": false
   },
   "outputs": [
    {
     "name": "stdout",
     "output_type": "stream",
     "text": [
      "(1, 64, 64)\n"
     ]
    }
   ],
   "source": [
    "# number of classes\n",
    "num_classes = 2\n",
    "\n",
    "# image dimensions\n",
    "img_rows, img_cols = X_train.shape[1],  X_train.shape[2]\n",
    "\n",
    "if K.image_dim_ordering() == 'th':\n",
    "    X_train = X_train.reshape(X_train.shape[0], 1, img_rows, img_cols)\n",
    "    X_test = X_test.reshape(X_test.shape[0], 1, img_rows, img_cols)\n",
    "    input_shape = (1, img_rows, img_cols)\n",
    "else:\n",
    "    X_train = X_train.reshape(X_train.shape[0], img_rows, img_cols, 1)\n",
    "    X_test = X_test.reshape(X_test.shape[0], img_rows, img_cols, 1)\n",
    "    input_shape = (img_rows, img_cols, 1)\n",
    "\n",
    "Y_train = np_utils.to_categorical(y_train, num_classes)\n",
    "Y_test = np_utils.to_categorical(y_test, num_classes)\n",
    "\n",
    "print input_shape"
   ]
  },
  {
   "cell_type": "code",
   "execution_count": 32,
   "metadata": {
    "collapsed": true
   },
   "outputs": [],
   "source": [
    "# model hyperparameters\n",
    "batch_size = 16\n",
    "nb_epoch = 30\n",
    "\n",
    "# network architecture\n",
    "patch_size_1 = 3\n",
    "patch_size_2 = 3\n",
    "patch_size_3 = 3\n",
    "patch_size_4 = 3\n",
    "\n",
    "depth_1 = 128\n",
    "depth_2 = 256\n",
    "depth_3 = 512\n",
    "depth_4 = 1024\n",
    "\n",
    "pool_size = 2\n",
    "\n",
    "# num_hidden_1 = 512\n",
    "# num_hidden_2 = 1028\n",
    "\n",
    "# dropout = 0.5"
   ]
  },
  {
   "cell_type": "code",
   "execution_count": 33,
   "metadata": {
    "collapsed": false
   },
   "outputs": [],
   "source": [
    "model = Sequential()\n",
    "\n",
    "model.add(Convolution2D(depth_1, patch_size_1, patch_size_1, border_mode='valid',\n",
    "                        input_shape=input_shape))\n",
    "model.add(Activation('relu'))\n",
    "model.add(MaxPooling2D(pool_size=(pool_size, pool_size)))\n",
    "\n",
    "model.add(Convolution2D(depth_2, patch_size_2, patch_size_2, border_mode='valid'))\n",
    "model.add(Activation('relu'))\n",
    "model.add(MaxPooling2D(pool_size=(pool_size, pool_size)))\n",
    "\n",
    "model.add(Convolution2D(depth_3, patch_size_3, patch_size_3, border_mode='valid'))\n",
    "model.add(Activation('relu'))\n",
    "# model.add(MaxPooling2D(pool_size=(pool_size, pool_size)))\n",
    "\n",
    "model.add(Convolution2D(depth_4, patch_size_4, patch_size_4, border_mode='valid'))\n",
    "model.add(Activation('relu'))\n",
    "\n",
    "model.add(AveragePooling2D(pool_size=(10, 10)))\n",
    "model.add(Flatten())\n",
    "model.add(Dense(num_classes))\n",
    "\n",
    "model.add(Activation('softmax'))"
   ]
  },
  {
   "cell_type": "code",
   "execution_count": 34,
   "metadata": {
    "collapsed": false
   },
   "outputs": [],
   "source": [
    "filename = \"-model-CAM-2.hdf5\"\n",
    "model.load_weights(filename)\n",
    "\n",
    "model.compile(loss='categorical_crossentropy',\n",
    "              optimizer='adadelta',\n",
    "              metrics=['accuracy'])"
   ]
  },
  {
   "cell_type": "code",
   "execution_count": 35,
   "metadata": {
    "collapsed": true
   },
   "outputs": [],
   "source": [
    "def get_activations(model, layer, X_batch):\n",
    "    get_activations = K.function([model.layers[0].input], [model.layers[layer].output])\n",
    "    activations = get_activations([X_batch,0])\n",
    "    return activations"
   ]
  },
  {
   "cell_type": "code",
   "execution_count": 56,
   "metadata": {
    "collapsed": false
   },
   "outputs": [
    {
     "name": "stdout",
     "output_type": "stream",
     "text": [
      "category: 0\n",
      "prediction: 0\n"
     ]
    },
    {
     "data": {
      "image/png": "[encoded data removed]",
      "text/plain": [
       "<matplotlib.figure.Figure at 0x7f9eee3bcb10>"
      ]
     },
     "metadata": {},
     "output_type": "display_data"
    },
    {
     "name": "stdout",
     "output_type": "stream",
     "text": [
      "(1, 1, 64, 64)\n",
      "(1024, 10, 10)\n"
     ]
    }
   ],
   "source": [
    "%matplotlib inline\n",
    "\n",
    "from matplotlib.pyplot import imshow\n",
    "import matplotlib.pyplot as plt\n",
    "\n",
    "img_num = 12\n",
    "\n",
    "X_t = X_train[img_num:img_num+1]\n",
    "\n",
    "img = X_t[0][0]\n",
    "\n",
    "category = np.argmax(Y_train[img_num])\n",
    "print \"category:\", category\n",
    "print \"prediction:\", np.argmax(model.predict(X_t)[0])\n",
    "\n",
    "mi, ma = np.min(img), np.max(img)\n",
    "imshow(img, cmap = plt.get_cmap('gray'), vmin = mi, vmax = ma,  interpolation='nearest')\n",
    "plt.axis('off')\n",
    "plt.show()\n",
    "\n",
    "print X_t.shape\n",
    "\n",
    "my_featuremaps = get_activations(model, 8, X_t)\n",
    "\n",
    "maps = my_featuremaps[0][0]\n",
    "print maps.shape"
   ]
  },
  {
   "cell_type": "code",
   "execution_count": 57,
   "metadata": {
    "collapsed": false
   },
   "outputs": [
    {
     "data": {
      "image/png": "[encoded data removed]",
      "text/plain": [
       "<matplotlib.figure.Figure at 0x7f9eee37f7d0>"
      ]
     },
     "metadata": {},
     "output_type": "display_data"
    }
   ],
   "source": [
    "lay = maps[5]\n",
    "\n",
    "mi, ma = np.min(lay), np.max(lay)\n",
    "imshow(lay, cmap = plt.get_cmap('gray'), vmin = mi, vmax = ma,  interpolation='nearest')\n",
    "plt.axis('off')\n",
    "plt.show()"
   ]
  },
  {
   "cell_type": "code",
   "execution_count": 58,
   "metadata": {
    "collapsed": false
   },
   "outputs": [
    {
     "name": "stdout",
     "output_type": "stream",
     "text": [
      "(None, 1024)\n",
      "(None, 2)\n"
     ]
    }
   ],
   "source": [
    "layer = model.layers[12]\n",
    "\n",
    "print layer.input_shape\n",
    "print layer.output_shape"
   ]
  },
  {
   "cell_type": "code",
   "execution_count": 59,
   "metadata": {
    "collapsed": false
   },
   "outputs": [
    {
     "name": "stdout",
     "output_type": "stream",
     "text": [
      "(1024, 2)\n"
     ]
    },
    {
     "data": {
      "image/png": "[encoded data removed]",
      "text/plain": [
       "<matplotlib.figure.Figure at 0x7f9eee3e5a50>"
      ]
     },
     "metadata": {},
     "output_type": "display_data"
    }
   ],
   "source": [
    "import scipy.misc\n",
    "\n",
    "wts = layer.get_weights()\n",
    "wts = wts[0]\n",
    "print wts.shape\n",
    "\n",
    "res = np.zeros((10,10))\n",
    "\n",
    "for i in range(wts.shape[0]):\n",
    "    m = maps[i]\n",
    "    w = wts[i][category]\n",
    "    r = np.multiply(m, w)\n",
    "    res = res + r\n",
    "\n",
    "mi, ma = np.min(img), np.max(img)\n",
    "imshow(img, vmin = mi, vmax = ma, cmap = plt.get_cmap('gray'), interpolation='nearest')\n",
    "\n",
    "plt.hold(True)\n",
    "\n",
    "heatmap = scipy.misc.imresize(res, (64,64), interp='bilinear')\n",
    "# heatmap = scipy.misc.imresize(res, (64,64), interp='nearest')\n",
    "\n",
    "mi, ma = np.min(heatmap), np.max(heatmap)\n",
    "imshow(heatmap, vmin = mi, vmax = ma, alpha=.5, interpolation='nearest')\n",
    "plt.axis('off')\n",
    "plt.show()"
   ]
  },
  {
   "cell_type": "code",
   "execution_count": null,
   "metadata": {
    "collapsed": true
   },
   "outputs": [],
   "source": []
  }
 ],
 "metadata": {
  "anaconda-cloud": {},
  "kernelspec": {
   "display_name": "Python [default]",
   "language": "python",
   "name": "python2"
  },
  "language_info": {
   "codemirror_mode": {
    "name": "ipython",
    "version": 2
   },
   "file_extension": ".py",
   "mimetype": "text/x-python",
   "name": "python",
   "nbconvert_exporter": "python",
   "pygments_lexer": "ipython2",
   "version": "2.7.12"
  }
 },
 "nbformat": 4,
 "nbformat_minor": 1
}
